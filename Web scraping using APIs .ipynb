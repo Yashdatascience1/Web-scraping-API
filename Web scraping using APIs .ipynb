{
 "cells": [
  {
   "cell_type": "markdown",
   "metadata": {},
   "source": [
    "# Part 1 - Truecar.com - New York"
   ]
  },
  {
   "cell_type": "markdown",
   "metadata": {},
   "source": [
    "#### Step 1 - Imports"
   ]
  },
  {
   "cell_type": "code",
   "execution_count": 1,
   "metadata": {},
   "outputs": [],
   "source": [
    "import requests\n",
    "import pandas as pd \n",
    "from sqlalchemy import create_engine"
   ]
  },
  {
   "cell_type": "markdown",
   "metadata": {},
   "source": [
    "#### Step 2 - Python Request "
   ]
  },
  {
   "cell_type": "code",
   "execution_count": 2,
   "metadata": {},
   "outputs": [],
   "source": [
    "headers = {\n",
    "    'authority': 'www.truecar.com',\n",
    "    'sec-ch-ua': '^\\\\^Chromium^\\\\^;v=^\\\\^92^\\\\^, ^\\\\^',\n",
    "    'accept': 'application/json, text/plain, */*',\n",
    "    'x-xsrf-token': 'Ur/kxt0PrKLpIlS3QELPXZBZHMSME0gTzs47TPfIUiC1LJqIt9HlLYrLTMgwB5qE6zC2M5Psn5Er+4Qm82MgEA==',\n",
    "    'sec-ch-ua-mobile': '?0',\n",
    "    'user-agent': 'Mozilla/5.0 (Windows NT 10.0; Win64; x64) AppleWebKit/537.36 (KHTML, like Gecko) Chrome/92.0.4515.131 Safari/537.36',\n",
    "    'sec-fetch-site': 'same-origin',\n",
    "    'sec-fetch-mode': 'cors',\n",
    "    'sec-fetch-dest': 'empty',\n",
    "    'referer': 'https://www.truecar.com/used-cars-for-sale/listings/location-new-york-ny/',\n",
    "    'accept-language': 'en-US,en;q=0.9,de-DE;q=0.8,de;q=0.7',\n",
    "    'cookie': 'tc_v=732d8f6c-016d-4e04-99ea-962821b285bd; u=rBEABWDn9kVuLQARuYhKAg==; user_zip_code_san-francisco-ca=94102; user_zip_code_new-york-ny=10001; _abp_auth_p=eyJhbGciOiJIUzI1NiJ9.eyJzdWIiOiIwN2Q0MTBkOS0zYjYwLTQwNTAtYjhiMy0yN2VhNzI5YjI4MmEiLCJpYXQiOjE2MjgwNTk1ODAsImV4cCI6MTY0NDA1OTU4MCwianRpIjoiMTkxNjdlZmYtNDg5NC00NWE5LTgwMzItYjNjNWYyNjJhZjg3IiwiYXV0aGVudGljYXRlZCI6ZmFsc2UsInByZXNldCI6eyJhZmZpbGlhdGlvbnMiOltdfSwiYXVkIjoiaHR0cHM6Ly93d3cudHJ1ZWNhci5jb20ifQ; _abp_auth_s=aLdzR1stp7FxiV6Cbnggg8fmtny6X9FAap2fnCqWeXg; referrer=ZTC0000000; g_state=^{^\\\\^i_p^\\\\^:1628151776913,^\\\\^i_l^\\\\^:2^}; capselaPreferredPostalCode=10001; XSRF-TOKEN=Ur^%^2Fkxt0PrKLpIlS3QELPXZBZHMSME0gTzs47TPfIUiC1LJqIt9HlLYrLTMgwB5qE6zC2M5Psn5Er^%^2B4Qm82MgEA^%^3D^%^3D; _abp_backend_session=cnN3bFdMQjJQYTlwRFFvS3oybm1oWTl0SVc3NVNGRng5Y01GWHlxa3BybWFJRXM1UkFueTFRWUhMYUtSVW1YZWxNaUFIZ2ZjS2FUQ2pVeURRNG5PeEh6VlRFQjZnRmFLN01PWHZFdjBQTis5UG9VRGFtWko4MFZNY2ZUUGRmS1pkSFdmcnB4TVkwMnJGREZBblZla1RRPT0tLW5BQjFPdHVvTk1VbHJZL3lwQ2MrTUE9PQ^%^3D^%^3D--a4caf99167368bcbbcd454b4ffe52eb35169abe0; _dd_s=rum=0&expire=1628067151364',\n",
    "    'if-none-match': 'W/^\\\\^ad5f12263df3f1f7dad67afa854d2880^\\\\^',\n",
    "}\n",
    "\n",
    "params = (\n",
    "    ('city', 'new-york'),\n",
    "    ('collapse', 'true'),\n",
    "    ('fallback', 'true'),\n",
    "    ('include_incentives', 'true'),\n",
    "    ('include_targeted_incentives', 'true'),\n",
    "    ('new_or_used', 'u'),\n",
    "    ('page', '1'),\n",
    "    ('per_page', '30'),\n",
    "    ('postal_code', '10001'),\n",
    "    ('search_event', 'true'),\n",
    "    ('sort^/[^/]', 'best_match'),\n",
    "    ('sponsored', 'true'),\n",
    "    ('state', 'ny'),\n",
    ")\n",
    "\n",
    "response = requests.get('https://www.truecar.com/abp/api/vehicles/used/listings', headers=headers, params=params)\n",
    "\n",
    "#NB. Original query string below. It seems impossible to parse and\n",
    "#reproduce query strings 100% accurately so the one below is given\n",
    "#in case the reproduced version is not \"correct\".\n",
    "# response = requests.get('https://www.truecar.com/abp/api/vehicles/used/listings?city=new-york&collapse=true&fallback=true&include_incentives=true&include_targeted_incentives=true&new_or_used=u&page=2&per_page=30&postal_code=10001&search_event=true&sort^\\[^\\]=best_match&sponsored=true&state=ny', headers=headers)\n"
   ]
  },
  {
   "cell_type": "markdown",
   "metadata": {},
   "source": [
    "#### Step 3 - Check Status Code"
   ]
  },
  {
   "cell_type": "code",
   "execution_count": 3,
   "metadata": {},
   "outputs": [
    {
     "data": {
      "text/plain": [
       "<Response [200]>"
      ]
     },
     "execution_count": 3,
     "metadata": {},
     "output_type": "execute_result"
    }
   ],
   "source": [
    "response"
   ]
  },
  {
   "cell_type": "markdown",
   "metadata": {},
   "source": [
    "#### Step 4 - Create Json Object"
   ]
  },
  {
   "cell_type": "code",
   "execution_count": 4,
   "metadata": {},
   "outputs": [],
   "source": [
    "results_json = response.json()"
   ]
  },
  {
   "cell_type": "code",
   "execution_count": 5,
   "metadata": {},
   "outputs": [
    {
     "data": {
      "text/plain": [
       "dict"
      ]
     },
     "execution_count": 5,
     "metadata": {},
     "output_type": "execute_result"
    }
   ],
   "source": [
    "type(results_json)"
   ]
  },
  {
   "cell_type": "markdown",
   "metadata": {},
   "source": [
    "#### Step 5 - Output Keys"
   ]
  },
  {
   "cell_type": "code",
   "execution_count": 6,
   "metadata": {},
   "outputs": [
    {
     "data": {
      "text/plain": [
       "dict_keys(['listings', 'page', 'per_page', 'total', 'fallback', 'fallback_step', 'display', 'list_price', 'buy_online', 'sponsored_listings', 'location'])"
      ]
     },
     "execution_count": 6,
     "metadata": {},
     "output_type": "execute_result"
    }
   ],
   "source": [
    "results_json.keys()"
   ]
  },
  {
   "cell_type": "markdown",
   "metadata": {},
   "source": [
    "#### Step 6 - Find your Data "
   ]
  },
  {
   "cell_type": "markdown",
   "metadata": {},
   "source": [
    "Necessary data\n",
    "- brand\n",
    "- model\n",
    "- mileage\n",
    "- year\n",
    "- price"
   ]
  },
  {
   "cell_type": "code",
   "execution_count": 8,
   "metadata": {},
   "outputs": [
    {
     "data": {
      "text/plain": [
       "30"
      ]
     },
     "execution_count": 8,
     "metadata": {},
     "output_type": "execute_result"
    }
   ],
   "source": [
    "len(results_json['listings'])"
   ]
  },
  {
   "cell_type": "code",
   "execution_count": 9,
   "metadata": {},
   "outputs": [],
   "source": [
    "result_items = results_json['listings']"
   ]
  },
  {
   "cell_type": "code",
   "execution_count": 10,
   "metadata": {},
   "outputs": [
    {
     "data": {
      "text/plain": [
       "30"
      ]
     },
     "execution_count": 10,
     "metadata": {},
     "output_type": "execute_result"
    }
   ],
   "source": [
    "len(result_items)"
   ]
  },
  {
   "cell_type": "code",
   "execution_count": 11,
   "metadata": {},
   "outputs": [
    {
     "data": {
      "text/plain": [
       "'Lexus'"
      ]
     },
     "execution_count": 11,
     "metadata": {},
     "output_type": "execute_result"
    }
   ],
   "source": [
    "# brand \n",
    "result_items[0]['vehicle']['make']"
   ]
  },
  {
   "cell_type": "code",
   "execution_count": 12,
   "metadata": {},
   "outputs": [
    {
     "data": {
      "text/plain": [
       "'RX'"
      ]
     },
     "execution_count": 12,
     "metadata": {},
     "output_type": "execute_result"
    }
   ],
   "source": [
    "# model \n",
    "result_items[0]['vehicle']['model']"
   ]
  },
  {
   "cell_type": "code",
   "execution_count": 13,
   "metadata": {},
   "outputs": [
    {
     "data": {
      "text/plain": [
       "46047"
      ]
     },
     "execution_count": 13,
     "metadata": {},
     "output_type": "execute_result"
    }
   ],
   "source": [
    "# mileage\n",
    "result_items[0]['vehicle']['mileage']"
   ]
  },
  {
   "cell_type": "code",
   "execution_count": 14,
   "metadata": {},
   "outputs": [
    {
     "data": {
      "text/plain": [
       "2019"
      ]
     },
     "execution_count": 14,
     "metadata": {},
     "output_type": "execute_result"
    }
   ],
   "source": [
    "# year\n",
    "result_items[0]['vehicle']['year']"
   ]
  },
  {
   "cell_type": "code",
   "execution_count": 15,
   "metadata": {},
   "outputs": [
    {
     "data": {
      "text/plain": [
       "34069"
      ]
     },
     "execution_count": 15,
     "metadata": {},
     "output_type": "execute_result"
    }
   ],
   "source": [
    "# price\n",
    "result_items[0]['pricing']['list_price']"
   ]
  },
  {
   "cell_type": "markdown",
   "metadata": {},
   "source": [
    "#### Step 7 - Put everything together & For-Loop"
   ]
  },
  {
   "cell_type": "code",
   "execution_count": 16,
   "metadata": {},
   "outputs": [],
   "source": [
    "brand_ny = []\n",
    "model_ny = []\n",
    "mileage_ny = []\n",
    "year_ny = []\n",
    "price_ny = []\n",
    "\n",
    "for result in result_items:\n",
    "    \n",
    "    # brand\n",
    "    brand_ny.append(result['vehicle']['make'])\n",
    "    \n",
    "    # model\n",
    "    model_ny.append(result['vehicle']['model'])\n",
    "    \n",
    "    # mileage\n",
    "    mileage_ny.append(result['vehicle']['mileage'])\n",
    "    \n",
    "    # year\n",
    "    year_ny.append(result['vehicle']['year'])\n",
    "    \n",
    "    # price\n",
    "    price_ny.append(result['pricing']['list_price'])"
   ]
  },
  {
   "cell_type": "markdown",
   "metadata": {},
   "source": [
    "#### Step 8 - Pandas Dataframe - Single Page"
   ]
  },
  {
   "cell_type": "code",
   "execution_count": 17,
   "metadata": {},
   "outputs": [],
   "source": [
    "df_ny_single = pd.DataFrame({'Brand': brand_ny, 'Model': model_ny, 'Mileage': mileage_ny, 'Year': year_ny,\n",
    "                             'Price':price_ny})"
   ]
  },
  {
   "cell_type": "code",
   "execution_count": 18,
   "metadata": {},
   "outputs": [
    {
     "data": {
      "text/html": [
       "<div>\n",
       "<style scoped>\n",
       "    .dataframe tbody tr th:only-of-type {\n",
       "        vertical-align: middle;\n",
       "    }\n",
       "\n",
       "    .dataframe tbody tr th {\n",
       "        vertical-align: top;\n",
       "    }\n",
       "\n",
       "    .dataframe thead th {\n",
       "        text-align: right;\n",
       "    }\n",
       "</style>\n",
       "<table border=\"1\" class=\"dataframe\">\n",
       "  <thead>\n",
       "    <tr style=\"text-align: right;\">\n",
       "      <th></th>\n",
       "      <th>Brand</th>\n",
       "      <th>Model</th>\n",
       "      <th>Mileage</th>\n",
       "      <th>Year</th>\n",
       "      <th>Price</th>\n",
       "    </tr>\n",
       "  </thead>\n",
       "  <tbody>\n",
       "    <tr>\n",
       "      <th>0</th>\n",
       "      <td>Lexus</td>\n",
       "      <td>RX</td>\n",
       "      <td>46047</td>\n",
       "      <td>2019</td>\n",
       "      <td>34069</td>\n",
       "    </tr>\n",
       "    <tr>\n",
       "      <th>1</th>\n",
       "      <td>Porsche</td>\n",
       "      <td>911</td>\n",
       "      <td>24653</td>\n",
       "      <td>2011</td>\n",
       "      <td>76695</td>\n",
       "    </tr>\n",
       "    <tr>\n",
       "      <th>2</th>\n",
       "      <td>Lexus</td>\n",
       "      <td>ES</td>\n",
       "      <td>45165</td>\n",
       "      <td>2019</td>\n",
       "      <td>31569</td>\n",
       "    </tr>\n",
       "    <tr>\n",
       "      <th>3</th>\n",
       "      <td>Toyota</td>\n",
       "      <td>Camry</td>\n",
       "      <td>45693</td>\n",
       "      <td>2019</td>\n",
       "      <td>27569</td>\n",
       "    </tr>\n",
       "    <tr>\n",
       "      <th>4</th>\n",
       "      <td>Nissan</td>\n",
       "      <td>Rogue</td>\n",
       "      <td>169206</td>\n",
       "      <td>2019</td>\n",
       "      <td>13695</td>\n",
       "    </tr>\n",
       "    <tr>\n",
       "      <th>5</th>\n",
       "      <td>Lexus</td>\n",
       "      <td>RX</td>\n",
       "      <td>12038</td>\n",
       "      <td>2019</td>\n",
       "      <td>41569</td>\n",
       "    </tr>\n",
       "    <tr>\n",
       "      <th>6</th>\n",
       "      <td>Lexus</td>\n",
       "      <td>NX</td>\n",
       "      <td>25728</td>\n",
       "      <td>2020</td>\n",
       "      <td>34069</td>\n",
       "    </tr>\n",
       "    <tr>\n",
       "      <th>7</th>\n",
       "      <td>Lexus</td>\n",
       "      <td>RX</td>\n",
       "      <td>28270</td>\n",
       "      <td>2019</td>\n",
       "      <td>38869</td>\n",
       "    </tr>\n",
       "    <tr>\n",
       "      <th>8</th>\n",
       "      <td>Honda</td>\n",
       "      <td>Civic</td>\n",
       "      <td>55356</td>\n",
       "      <td>2017</td>\n",
       "      <td>16995</td>\n",
       "    </tr>\n",
       "    <tr>\n",
       "      <th>9</th>\n",
       "      <td>Nissan</td>\n",
       "      <td>Murano</td>\n",
       "      <td>18565</td>\n",
       "      <td>2019</td>\n",
       "      <td>23488</td>\n",
       "    </tr>\n",
       "    <tr>\n",
       "      <th>10</th>\n",
       "      <td>Lexus</td>\n",
       "      <td>NX</td>\n",
       "      <td>26530</td>\n",
       "      <td>2020</td>\n",
       "      <td>33869</td>\n",
       "    </tr>\n",
       "    <tr>\n",
       "      <th>11</th>\n",
       "      <td>Lexus</td>\n",
       "      <td>GX</td>\n",
       "      <td>24684</td>\n",
       "      <td>2019</td>\n",
       "      <td>39969</td>\n",
       "    </tr>\n",
       "    <tr>\n",
       "      <th>12</th>\n",
       "      <td>Nissan</td>\n",
       "      <td>Rogue Sport</td>\n",
       "      <td>35383</td>\n",
       "      <td>2019</td>\n",
       "      <td>18998</td>\n",
       "    </tr>\n",
       "    <tr>\n",
       "      <th>13</th>\n",
       "      <td>Audi</td>\n",
       "      <td>Q5</td>\n",
       "      <td>47261</td>\n",
       "      <td>2019</td>\n",
       "      <td>31269</td>\n",
       "    </tr>\n",
       "    <tr>\n",
       "      <th>14</th>\n",
       "      <td>Lexus</td>\n",
       "      <td>NX</td>\n",
       "      <td>21193</td>\n",
       "      <td>2020</td>\n",
       "      <td>33869</td>\n",
       "    </tr>\n",
       "    <tr>\n",
       "      <th>15</th>\n",
       "      <td>Honda</td>\n",
       "      <td>Accord</td>\n",
       "      <td>30154</td>\n",
       "      <td>2019</td>\n",
       "      <td>22999</td>\n",
       "    </tr>\n",
       "    <tr>\n",
       "      <th>16</th>\n",
       "      <td>Toyota</td>\n",
       "      <td>Camry</td>\n",
       "      <td>26026</td>\n",
       "      <td>2020</td>\n",
       "      <td>25069</td>\n",
       "    </tr>\n",
       "    <tr>\n",
       "      <th>17</th>\n",
       "      <td>Lexus</td>\n",
       "      <td>LS</td>\n",
       "      <td>54035</td>\n",
       "      <td>2018</td>\n",
       "      <td>46869</td>\n",
       "    </tr>\n",
       "    <tr>\n",
       "      <th>18</th>\n",
       "      <td>Jeep</td>\n",
       "      <td>Grand Cherokee WK</td>\n",
       "      <td>54902</td>\n",
       "      <td>2021</td>\n",
       "      <td>27897</td>\n",
       "    </tr>\n",
       "    <tr>\n",
       "      <th>19</th>\n",
       "      <td>Ford</td>\n",
       "      <td>Edge</td>\n",
       "      <td>49539</td>\n",
       "      <td>2021</td>\n",
       "      <td>22297</td>\n",
       "    </tr>\n",
       "    <tr>\n",
       "      <th>20</th>\n",
       "      <td>Lexus</td>\n",
       "      <td>NX</td>\n",
       "      <td>32702</td>\n",
       "      <td>2019</td>\n",
       "      <td>31969</td>\n",
       "    </tr>\n",
       "    <tr>\n",
       "      <th>21</th>\n",
       "      <td>Lexus</td>\n",
       "      <td>RX</td>\n",
       "      <td>30349</td>\n",
       "      <td>2019</td>\n",
       "      <td>42069</td>\n",
       "    </tr>\n",
       "    <tr>\n",
       "      <th>22</th>\n",
       "      <td>Lexus</td>\n",
       "      <td>RX</td>\n",
       "      <td>26940</td>\n",
       "      <td>2018</td>\n",
       "      <td>34869</td>\n",
       "    </tr>\n",
       "    <tr>\n",
       "      <th>23</th>\n",
       "      <td>Ford</td>\n",
       "      <td>EcoSport</td>\n",
       "      <td>55928</td>\n",
       "      <td>2020</td>\n",
       "      <td>16097</td>\n",
       "    </tr>\n",
       "    <tr>\n",
       "      <th>24</th>\n",
       "      <td>Mercedes-Benz</td>\n",
       "      <td>E-Class</td>\n",
       "      <td>130638</td>\n",
       "      <td>2008</td>\n",
       "      <td>6995</td>\n",
       "    </tr>\n",
       "    <tr>\n",
       "      <th>25</th>\n",
       "      <td>Honda</td>\n",
       "      <td>Accord</td>\n",
       "      <td>71390</td>\n",
       "      <td>2018</td>\n",
       "      <td>20995</td>\n",
       "    </tr>\n",
       "    <tr>\n",
       "      <th>26</th>\n",
       "      <td>Lexus</td>\n",
       "      <td>NX</td>\n",
       "      <td>24266</td>\n",
       "      <td>2021</td>\n",
       "      <td>34969</td>\n",
       "    </tr>\n",
       "    <tr>\n",
       "      <th>27</th>\n",
       "      <td>Mazda</td>\n",
       "      <td>CX-5</td>\n",
       "      <td>22392</td>\n",
       "      <td>2019</td>\n",
       "      <td>26495</td>\n",
       "    </tr>\n",
       "    <tr>\n",
       "      <th>28</th>\n",
       "      <td>INFINITI</td>\n",
       "      <td>Q50</td>\n",
       "      <td>81344</td>\n",
       "      <td>2018</td>\n",
       "      <td>17995</td>\n",
       "    </tr>\n",
       "    <tr>\n",
       "      <th>29</th>\n",
       "      <td>Jeep</td>\n",
       "      <td>Grand Cherokee</td>\n",
       "      <td>44679</td>\n",
       "      <td>2020</td>\n",
       "      <td>29597</td>\n",
       "    </tr>\n",
       "  </tbody>\n",
       "</table>\n",
       "</div>"
      ],
      "text/plain": [
       "            Brand              Model  Mileage  Year  Price\n",
       "0           Lexus                 RX    46047  2019  34069\n",
       "1         Porsche                911    24653  2011  76695\n",
       "2           Lexus                 ES    45165  2019  31569\n",
       "3          Toyota              Camry    45693  2019  27569\n",
       "4          Nissan              Rogue   169206  2019  13695\n",
       "5           Lexus                 RX    12038  2019  41569\n",
       "6           Lexus                 NX    25728  2020  34069\n",
       "7           Lexus                 RX    28270  2019  38869\n",
       "8           Honda              Civic    55356  2017  16995\n",
       "9          Nissan             Murano    18565  2019  23488\n",
       "10          Lexus                 NX    26530  2020  33869\n",
       "11          Lexus                 GX    24684  2019  39969\n",
       "12         Nissan        Rogue Sport    35383  2019  18998\n",
       "13           Audi                 Q5    47261  2019  31269\n",
       "14          Lexus                 NX    21193  2020  33869\n",
       "15          Honda             Accord    30154  2019  22999\n",
       "16         Toyota              Camry    26026  2020  25069\n",
       "17          Lexus                 LS    54035  2018  46869\n",
       "18           Jeep  Grand Cherokee WK    54902  2021  27897\n",
       "19           Ford               Edge    49539  2021  22297\n",
       "20          Lexus                 NX    32702  2019  31969\n",
       "21          Lexus                 RX    30349  2019  42069\n",
       "22          Lexus                 RX    26940  2018  34869\n",
       "23           Ford           EcoSport    55928  2020  16097\n",
       "24  Mercedes-Benz            E-Class   130638  2008   6995\n",
       "25          Honda             Accord    71390  2018  20995\n",
       "26          Lexus                 NX    24266  2021  34969\n",
       "27          Mazda               CX-5    22392  2019  26495\n",
       "28       INFINITI                Q50    81344  2018  17995\n",
       "29           Jeep     Grand Cherokee    44679  2020  29597"
      ]
     },
     "execution_count": 18,
     "metadata": {},
     "output_type": "execute_result"
    }
   ],
   "source": [
    "df_ny_single"
   ]
  },
  {
   "cell_type": "markdown",
   "metadata": {},
   "source": [
    "#### Step 9 - Scraping Multiple Pages (here: ~5000results)"
   ]
  },
  {
   "cell_type": "code",
   "execution_count": 19,
   "metadata": {},
   "outputs": [],
   "source": [
    "brand_ny = []\n",
    "model_ny = []\n",
    "mileage_ny = []\n",
    "year_ny = []\n",
    "price_ny = []\n",
    "\n",
    "for i in range(1,170):\n",
    "\n",
    "    headers = {\n",
    "        'authority': 'www.truecar.com',\n",
    "        'sec-ch-ua': '^\\\\^Chromium^\\\\^;v=^\\\\^92^\\\\^, ^\\\\^',\n",
    "        'accept': 'application/json, text/plain, */*',\n",
    "        'x-xsrf-token': 'Ur/kxt0PrKLpIlS3QELPXZBZHMSME0gTzs47TPfIUiC1LJqIt9HlLYrLTMgwB5qE6zC2M5Psn5Er+4Qm82MgEA==',\n",
    "        'sec-ch-ua-mobile': '?0',\n",
    "        'user-agent': 'Mozilla/5.0 (Windows NT 10.0; Win64; x64) AppleWebKit/537.36 (KHTML, like Gecko) Chrome/92.0.4515.131 Safari/537.36',\n",
    "        'sec-fetch-site': 'same-origin',\n",
    "        'sec-fetch-mode': 'cors',\n",
    "        'sec-fetch-dest': 'empty',\n",
    "        'referer': 'https://www.truecar.com/used-cars-for-sale/listings/location-new-york-ny/',\n",
    "        'accept-language': 'en-US,en;q=0.9,de-DE;q=0.8,de;q=0.7',\n",
    "        'cookie': 'tc_v=732d8f6c-016d-4e04-99ea-962821b285bd; u=rBEABWDn9kVuLQARuYhKAg==; user_zip_code_san-francisco-ca=94102; user_zip_code_new-york-ny=10001; _abp_auth_p=eyJhbGciOiJIUzI1NiJ9.eyJzdWIiOiIwN2Q0MTBkOS0zYjYwLTQwNTAtYjhiMy0yN2VhNzI5YjI4MmEiLCJpYXQiOjE2MjgwNTk1ODAsImV4cCI6MTY0NDA1OTU4MCwianRpIjoiMTkxNjdlZmYtNDg5NC00NWE5LTgwMzItYjNjNWYyNjJhZjg3IiwiYXV0aGVudGljYXRlZCI6ZmFsc2UsInByZXNldCI6eyJhZmZpbGlhdGlvbnMiOltdfSwiYXVkIjoiaHR0cHM6Ly93d3cudHJ1ZWNhci5jb20ifQ; _abp_auth_s=aLdzR1stp7FxiV6Cbnggg8fmtny6X9FAap2fnCqWeXg; referrer=ZTC0000000; g_state=^{^\\\\^i_p^\\\\^:1628151776913,^\\\\^i_l^\\\\^:2^}; capselaPreferredPostalCode=10001; XSRF-TOKEN=Ur^%^2Fkxt0PrKLpIlS3QELPXZBZHMSME0gTzs47TPfIUiC1LJqIt9HlLYrLTMgwB5qE6zC2M5Psn5Er^%^2B4Qm82MgEA^%^3D^%^3D; _abp_backend_session=cnN3bFdMQjJQYTlwRFFvS3oybm1oWTl0SVc3NVNGRng5Y01GWHlxa3BybWFJRXM1UkFueTFRWUhMYUtSVW1YZWxNaUFIZ2ZjS2FUQ2pVeURRNG5PeEh6VlRFQjZnRmFLN01PWHZFdjBQTis5UG9VRGFtWko4MFZNY2ZUUGRmS1pkSFdmcnB4TVkwMnJGREZBblZla1RRPT0tLW5BQjFPdHVvTk1VbHJZL3lwQ2MrTUE9PQ^%^3D^%^3D--a4caf99167368bcbbcd454b4ffe52eb35169abe0; _dd_s=rum=0&expire=1628067151364',\n",
    "        'if-none-match': 'W/^\\\\^ad5f12263df3f1f7dad67afa854d2880^\\\\^',\n",
    "    }\n",
    "\n",
    "    params = (\n",
    "        ('city', 'new-york'),\n",
    "        ('collapse', 'true'),\n",
    "        ('fallback', 'true'),\n",
    "        ('include_incentives', 'true'),\n",
    "        ('include_targeted_incentives', 'true'),\n",
    "        ('new_or_used', 'u'),\n",
    "        ('page', str(i)),\n",
    "        ('per_page', '30'),\n",
    "        ('postal_code', '10001'),\n",
    "        ('search_event', 'true'),\n",
    "        ('sort^/[^/]', 'best_match'),\n",
    "        ('sponsored', 'true'),\n",
    "        ('state', 'ny'),\n",
    "    )\n",
    "\n",
    "    # response\n",
    "    response = requests.get('https://www.truecar.com/abp/api/vehicles/used/listings', headers=headers, params=params)\n",
    "\n",
    "    # json object\n",
    "    results_json = response.json()\n",
    "    \n",
    "    # result items (30 items per page)\n",
    "    result_items = results_json['listings']\n",
    "    \n",
    "    for result in result_items:\n",
    "    \n",
    "        # brand\n",
    "        brand_ny.append(result['vehicle']['make'])\n",
    "\n",
    "        # model\n",
    "        model_ny.append(result['vehicle']['model'])\n",
    "\n",
    "        # mileage\n",
    "        mileage_ny.append(result['vehicle']['mileage'])\n",
    "\n",
    "        # year\n",
    "        year_ny.append(result['vehicle']['year'])\n",
    "\n",
    "        # price\n",
    "        price_ny.append(result['pricing']['list_price'])\n"
   ]
  },
  {
   "cell_type": "code",
   "execution_count": 20,
   "metadata": {},
   "outputs": [],
   "source": [
    "df_ny_single = pd.DataFrame({'Brand': brand_ny, 'Model': model_ny, 'Mileage': mileage_ny, 'Year': year_ny,\n",
    "                             'Price':price_ny})"
   ]
  },
  {
   "cell_type": "code",
   "execution_count": 21,
   "metadata": {},
   "outputs": [
    {
     "data": {
      "text/html": [
       "<div>\n",
       "<style scoped>\n",
       "    .dataframe tbody tr th:only-of-type {\n",
       "        vertical-align: middle;\n",
       "    }\n",
       "\n",
       "    .dataframe tbody tr th {\n",
       "        vertical-align: top;\n",
       "    }\n",
       "\n",
       "    .dataframe thead th {\n",
       "        text-align: right;\n",
       "    }\n",
       "</style>\n",
       "<table border=\"1\" class=\"dataframe\">\n",
       "  <thead>\n",
       "    <tr style=\"text-align: right;\">\n",
       "      <th></th>\n",
       "      <th>Brand</th>\n",
       "      <th>Model</th>\n",
       "      <th>Mileage</th>\n",
       "      <th>Year</th>\n",
       "      <th>Price</th>\n",
       "    </tr>\n",
       "  </thead>\n",
       "  <tbody>\n",
       "    <tr>\n",
       "      <th>0</th>\n",
       "      <td>Lexus</td>\n",
       "      <td>RX</td>\n",
       "      <td>46047</td>\n",
       "      <td>2019</td>\n",
       "      <td>34069.0</td>\n",
       "    </tr>\n",
       "    <tr>\n",
       "      <th>1</th>\n",
       "      <td>Porsche</td>\n",
       "      <td>911</td>\n",
       "      <td>24653</td>\n",
       "      <td>2011</td>\n",
       "      <td>76695.0</td>\n",
       "    </tr>\n",
       "    <tr>\n",
       "      <th>2</th>\n",
       "      <td>Lexus</td>\n",
       "      <td>ES</td>\n",
       "      <td>45165</td>\n",
       "      <td>2019</td>\n",
       "      <td>31569.0</td>\n",
       "    </tr>\n",
       "    <tr>\n",
       "      <th>3</th>\n",
       "      <td>Toyota</td>\n",
       "      <td>Camry</td>\n",
       "      <td>45693</td>\n",
       "      <td>2019</td>\n",
       "      <td>27569.0</td>\n",
       "    </tr>\n",
       "    <tr>\n",
       "      <th>4</th>\n",
       "      <td>Nissan</td>\n",
       "      <td>Rogue</td>\n",
       "      <td>169206</td>\n",
       "      <td>2019</td>\n",
       "      <td>13695.0</td>\n",
       "    </tr>\n",
       "    <tr>\n",
       "      <th>...</th>\n",
       "      <td>...</td>\n",
       "      <td>...</td>\n",
       "      <td>...</td>\n",
       "      <td>...</td>\n",
       "      <td>...</td>\n",
       "    </tr>\n",
       "    <tr>\n",
       "      <th>5065</th>\n",
       "      <td>Chevrolet</td>\n",
       "      <td>Silverado 1500</td>\n",
       "      <td>55711</td>\n",
       "      <td>2017</td>\n",
       "      <td>27602.0</td>\n",
       "    </tr>\n",
       "    <tr>\n",
       "      <th>5066</th>\n",
       "      <td>Honda</td>\n",
       "      <td>CR-V</td>\n",
       "      <td>44313</td>\n",
       "      <td>2018</td>\n",
       "      <td>26998.0</td>\n",
       "    </tr>\n",
       "    <tr>\n",
       "      <th>5067</th>\n",
       "      <td>Ford</td>\n",
       "      <td>Explorer</td>\n",
       "      <td>23852</td>\n",
       "      <td>2020</td>\n",
       "      <td>35995.0</td>\n",
       "    </tr>\n",
       "    <tr>\n",
       "      <th>5068</th>\n",
       "      <td>Volkswagen</td>\n",
       "      <td>Jetta</td>\n",
       "      <td>8644</td>\n",
       "      <td>2019</td>\n",
       "      <td>26998.0</td>\n",
       "    </tr>\n",
       "    <tr>\n",
       "      <th>5069</th>\n",
       "      <td>BMW</td>\n",
       "      <td>X3</td>\n",
       "      <td>15992</td>\n",
       "      <td>2020</td>\n",
       "      <td>39998.0</td>\n",
       "    </tr>\n",
       "  </tbody>\n",
       "</table>\n",
       "<p>5070 rows × 5 columns</p>\n",
       "</div>"
      ],
      "text/plain": [
       "           Brand           Model  Mileage  Year    Price\n",
       "0          Lexus              RX    46047  2019  34069.0\n",
       "1        Porsche             911    24653  2011  76695.0\n",
       "2          Lexus              ES    45165  2019  31569.0\n",
       "3         Toyota           Camry    45693  2019  27569.0\n",
       "4         Nissan           Rogue   169206  2019  13695.0\n",
       "...          ...             ...      ...   ...      ...\n",
       "5065   Chevrolet  Silverado 1500    55711  2017  27602.0\n",
       "5066       Honda            CR-V    44313  2018  26998.0\n",
       "5067        Ford        Explorer    23852  2020  35995.0\n",
       "5068  Volkswagen           Jetta     8644  2019  26998.0\n",
       "5069         BMW              X3    15992  2020  39998.0\n",
       "\n",
       "[5070 rows x 5 columns]"
      ]
     },
     "execution_count": 21,
     "metadata": {},
     "output_type": "execute_result"
    }
   ],
   "source": [
    "df_ny_single"
   ]
  },
  {
   "cell_type": "code",
   "execution_count": 22,
   "metadata": {},
   "outputs": [],
   "source": [
    "df_ny_single.to_excel('output_5k.xlsx', index=False)"
   ]
  },
  {
   "cell_type": "markdown",
   "metadata": {},
   "source": [
    "# Part 2 - Truecar.com - San Francisco"
   ]
  },
  {
   "cell_type": "code",
   "execution_count": 23,
   "metadata": {},
   "outputs": [],
   "source": [
    "brand_sf = []\n",
    "model_sf = []\n",
    "mileage_sf = []\n",
    "year_sf = []\n",
    "price_sf = []\n",
    "\n",
    "for i in range(1,170):\n",
    "    headers = {\n",
    "        'authority': 'www.truecar.com',\n",
    "        'sec-ch-ua': '^\\\\^Chromium^\\\\^;v=^\\\\^92^\\\\^, ^\\\\^',\n",
    "        'accept': 'application/json, text/plain, */*',\n",
    "        'x-xsrf-token': 'sRHovNRE9jEGmReSnaj0SFGY/L5+yUbMUmoVcX3SrQpWgpbyvpq/vmVwD+3t7aGRKvFWSWE2kU63X6obeXnfOg==',\n",
    "        'sec-ch-ua-mobile': '?0',\n",
    "        'user-agent': 'Mozilla/5.0 (Windows NT 10.0; Win64; x64) AppleWebKit/537.36 (KHTML, like Gecko) Chrome/92.0.4515.131 Safari/537.36',\n",
    "        'sec-fetch-site': 'same-origin',\n",
    "        'sec-fetch-mode': 'cors',\n",
    "        'sec-fetch-dest': 'empty',\n",
    "        'referer': 'https://www.truecar.com/used-cars-for-sale/listings/location-san-francisco-ca/',\n",
    "        'accept-language': 'en-US,en;q=0.9,de-DE;q=0.8,de;q=0.7',\n",
    "        'cookie': 'tc_v=732d8f6c-016d-4e04-99ea-962821b285bd; u=rBEABWDn9kVuLQARuYhKAg==; user_zip_code_san-francisco-ca=94102; user_zip_code_new-york-ny=10001; _abp_auth_p=eyJhbGciOiJIUzI1NiJ9.eyJzdWIiOiIwN2Q0MTBkOS0zYjYwLTQwNTAtYjhiMy0yN2VhNzI5YjI4MmEiLCJpYXQiOjE2MjgwNTk1ODAsImV4cCI6MTY0NDA1OTU4MCwianRpIjoiMTkxNjdlZmYtNDg5NC00NWE5LTgwMzItYjNjNWYyNjJhZjg3IiwiYXV0aGVudGljYXRlZCI6ZmFsc2UsInByZXNldCI6eyJhZmZpbGlhdGlvbnMiOltdfSwiYXVkIjoiaHR0cHM6Ly93d3cudHJ1ZWNhci5jb20ifQ; _abp_auth_s=aLdzR1stp7FxiV6Cbnggg8fmtny6X9FAap2fnCqWeXg; referrer=ZTC0000000; g_state=^{^\\\\^i_p^\\\\^:1628151776913,^\\\\^i_l^\\\\^:2^}; capselaPreferredPostalCode=94102; XSRF-TOKEN=sRHovNRE9jEGmReSnaj0SFGY^%^2FL5^%^2ByUbMUmoVcX3SrQpWgpbyvpq^%^2FvmVwD^%^2B3t7aGRKvFWSWE2kU63X6obeXnfOg^%^3D^%^3D; _abp_backend_session=a3VMTkJGelNWbmptb3Q4aHlObjNIT1VXNFBZNXREeEg0SHo4MEZGdTNoalFRSzV2VldsaStYa3J6UDZSdGJvZDJsRUtXUkJVZ0ZycXhrbU5PZ0gxZms3RGFtRFJVbXZTeTFzeGI3WGo2VGVxUmptdm1OYVdmZGVrWlFvMDIxQVdLZ1BnM1A2SGZBa1pKbXhERlZOVzlRPT0tLW9ONTI2Y0xLM0lLY1g1NE5qSEpaSVE9PQ^%^3D^%^3D--4c4bf94f0b241212f5e3b798c48f4a5f0e366f7f; _dd_s=rum=0&expire=1628089775124',\n",
    "        'if-none-match': 'W/^\\\\^a5ee0fa2b55644cda4fcbfe817357d97^\\\\^',\n",
    "    }\n",
    "\n",
    "    params = (\n",
    "        ('city', 'san-francisco'),\n",
    "        ('collapse', 'true'),\n",
    "        ('fallback', 'true'),\n",
    "        ('include_incentives', 'true'),\n",
    "        ('include_targeted_incentives', 'true'),\n",
    "        ('new_or_used', 'u'),\n",
    "        ('page', str(i)),\n",
    "        ('per_page', '30'),\n",
    "        ('postal_code', '94102'),\n",
    "        ('search_event', 'true'),\n",
    "        ('sort^/[^/]', 'best_match'),\n",
    "        ('sponsored', 'true'),\n",
    "        ('state', 'ca'),\n",
    "    )\n",
    "\n",
    "    # response\n",
    "    response = requests.get('https://www.truecar.com/abp/api/vehicles/used/listings', headers=headers, params=params)\n",
    "\n",
    "    # json object\n",
    "    results_json = response.json()\n",
    "    \n",
    "    # result items (30 items per page)\n",
    "    result_items = results_json['listings']\n",
    "    \n",
    "    for result in result_items:\n",
    "    \n",
    "        # brand\n",
    "        brand_sf.append(result['vehicle']['make'])\n",
    "\n",
    "        # model\n",
    "        model_sf.append(result['vehicle']['model'])\n",
    "\n",
    "        # mileage\n",
    "        mileage_sf.append(result['vehicle']['mileage'])\n",
    "\n",
    "        # year\n",
    "        year_sf.append(result['vehicle']['year'])\n",
    "\n",
    "        # price\n",
    "        price_sf.append(result['pricing']['list_price'])\n"
   ]
  },
  {
   "cell_type": "code",
   "execution_count": 24,
   "metadata": {},
   "outputs": [],
   "source": [
    "df_sf_single = pd.DataFrame({'Brand': brand_sf, 'Model': model_sf, 'Mileage': mileage_sf, 'Year': year_sf,\n",
    "                             'Price':price_sf})"
   ]
  },
  {
   "cell_type": "code",
   "execution_count": 25,
   "metadata": {
    "scrolled": true
   },
   "outputs": [
    {
     "data": {
      "text/html": [
       "<div>\n",
       "<style scoped>\n",
       "    .dataframe tbody tr th:only-of-type {\n",
       "        vertical-align: middle;\n",
       "    }\n",
       "\n",
       "    .dataframe tbody tr th {\n",
       "        vertical-align: top;\n",
       "    }\n",
       "\n",
       "    .dataframe thead th {\n",
       "        text-align: right;\n",
       "    }\n",
       "</style>\n",
       "<table border=\"1\" class=\"dataframe\">\n",
       "  <thead>\n",
       "    <tr style=\"text-align: right;\">\n",
       "      <th></th>\n",
       "      <th>Brand</th>\n",
       "      <th>Model</th>\n",
       "      <th>Mileage</th>\n",
       "      <th>Year</th>\n",
       "      <th>Price</th>\n",
       "    </tr>\n",
       "  </thead>\n",
       "  <tbody>\n",
       "    <tr>\n",
       "      <th>0</th>\n",
       "      <td>Volkswagen</td>\n",
       "      <td>Jetta</td>\n",
       "      <td>58135</td>\n",
       "      <td>2014</td>\n",
       "      <td>10579</td>\n",
       "    </tr>\n",
       "    <tr>\n",
       "      <th>1</th>\n",
       "      <td>Scion</td>\n",
       "      <td>xB</td>\n",
       "      <td>216000</td>\n",
       "      <td>2008</td>\n",
       "      <td>3108</td>\n",
       "    </tr>\n",
       "    <tr>\n",
       "      <th>2</th>\n",
       "      <td>Chevrolet</td>\n",
       "      <td>Malibu</td>\n",
       "      <td>55625</td>\n",
       "      <td>2017</td>\n",
       "      <td>14601</td>\n",
       "    </tr>\n",
       "    <tr>\n",
       "      <th>3</th>\n",
       "      <td>Tesla</td>\n",
       "      <td>Model Y</td>\n",
       "      <td>22716</td>\n",
       "      <td>2021</td>\n",
       "      <td>58990</td>\n",
       "    </tr>\n",
       "    <tr>\n",
       "      <th>4</th>\n",
       "      <td>Toyota</td>\n",
       "      <td>Corolla</td>\n",
       "      <td>43600</td>\n",
       "      <td>2013</td>\n",
       "      <td>14239</td>\n",
       "    </tr>\n",
       "    <tr>\n",
       "      <th>...</th>\n",
       "      <td>...</td>\n",
       "      <td>...</td>\n",
       "      <td>...</td>\n",
       "      <td>...</td>\n",
       "      <td>...</td>\n",
       "    </tr>\n",
       "    <tr>\n",
       "      <th>5065</th>\n",
       "      <td>Lexus</td>\n",
       "      <td>IS</td>\n",
       "      <td>121969</td>\n",
       "      <td>2011</td>\n",
       "      <td>16500</td>\n",
       "    </tr>\n",
       "    <tr>\n",
       "      <th>5066</th>\n",
       "      <td>Hyundai</td>\n",
       "      <td>Elantra</td>\n",
       "      <td>98242</td>\n",
       "      <td>2016</td>\n",
       "      <td>12998</td>\n",
       "    </tr>\n",
       "    <tr>\n",
       "      <th>5067</th>\n",
       "      <td>Kia</td>\n",
       "      <td>Optima</td>\n",
       "      <td>28115</td>\n",
       "      <td>2020</td>\n",
       "      <td>20590</td>\n",
       "    </tr>\n",
       "    <tr>\n",
       "      <th>5068</th>\n",
       "      <td>Volkswagen</td>\n",
       "      <td>Passat</td>\n",
       "      <td>53157</td>\n",
       "      <td>2016</td>\n",
       "      <td>16068</td>\n",
       "    </tr>\n",
       "    <tr>\n",
       "      <th>5069</th>\n",
       "      <td>Honda</td>\n",
       "      <td>Fit</td>\n",
       "      <td>56770</td>\n",
       "      <td>2016</td>\n",
       "      <td>16998</td>\n",
       "    </tr>\n",
       "  </tbody>\n",
       "</table>\n",
       "<p>5070 rows × 5 columns</p>\n",
       "</div>"
      ],
      "text/plain": [
       "           Brand    Model  Mileage  Year  Price\n",
       "0     Volkswagen    Jetta    58135  2014  10579\n",
       "1          Scion       xB   216000  2008   3108\n",
       "2      Chevrolet   Malibu    55625  2017  14601\n",
       "3          Tesla  Model Y    22716  2021  58990\n",
       "4         Toyota  Corolla    43600  2013  14239\n",
       "...          ...      ...      ...   ...    ...\n",
       "5065       Lexus       IS   121969  2011  16500\n",
       "5066     Hyundai  Elantra    98242  2016  12998\n",
       "5067         Kia   Optima    28115  2020  20590\n",
       "5068  Volkswagen   Passat    53157  2016  16068\n",
       "5069       Honda      Fit    56770  2016  16998\n",
       "\n",
       "[5070 rows x 5 columns]"
      ]
     },
     "execution_count": 25,
     "metadata": {},
     "output_type": "execute_result"
    }
   ],
   "source": [
    "df_sf_single"
   ]
  },
  {
   "cell_type": "markdown",
   "metadata": {},
   "source": [
    "# Part 3 - Combine Data & Connect to Database - PostgreSQL"
   ]
  },
  {
   "cell_type": "code",
   "execution_count": 26,
   "metadata": {},
   "outputs": [],
   "source": [
    "# merge dataframes\n",
    "merged_dataframes = pd.concat([df_ny_single, df_sf_single], ignore_index=True)"
   ]
  },
  {
   "cell_type": "code",
   "execution_count": 27,
   "metadata": {},
   "outputs": [
    {
     "data": {
      "text/html": [
       "<div>\n",
       "<style scoped>\n",
       "    .dataframe tbody tr th:only-of-type {\n",
       "        vertical-align: middle;\n",
       "    }\n",
       "\n",
       "    .dataframe tbody tr th {\n",
       "        vertical-align: top;\n",
       "    }\n",
       "\n",
       "    .dataframe thead th {\n",
       "        text-align: right;\n",
       "    }\n",
       "</style>\n",
       "<table border=\"1\" class=\"dataframe\">\n",
       "  <thead>\n",
       "    <tr style=\"text-align: right;\">\n",
       "      <th></th>\n",
       "      <th>Brand</th>\n",
       "      <th>Model</th>\n",
       "      <th>Mileage</th>\n",
       "      <th>Year</th>\n",
       "      <th>Price</th>\n",
       "    </tr>\n",
       "  </thead>\n",
       "  <tbody>\n",
       "    <tr>\n",
       "      <th>0</th>\n",
       "      <td>Lexus</td>\n",
       "      <td>RX</td>\n",
       "      <td>46047</td>\n",
       "      <td>2019</td>\n",
       "      <td>34069.0</td>\n",
       "    </tr>\n",
       "    <tr>\n",
       "      <th>1</th>\n",
       "      <td>Porsche</td>\n",
       "      <td>911</td>\n",
       "      <td>24653</td>\n",
       "      <td>2011</td>\n",
       "      <td>76695.0</td>\n",
       "    </tr>\n",
       "    <tr>\n",
       "      <th>2</th>\n",
       "      <td>Lexus</td>\n",
       "      <td>ES</td>\n",
       "      <td>45165</td>\n",
       "      <td>2019</td>\n",
       "      <td>31569.0</td>\n",
       "    </tr>\n",
       "    <tr>\n",
       "      <th>3</th>\n",
       "      <td>Toyota</td>\n",
       "      <td>Camry</td>\n",
       "      <td>45693</td>\n",
       "      <td>2019</td>\n",
       "      <td>27569.0</td>\n",
       "    </tr>\n",
       "    <tr>\n",
       "      <th>4</th>\n",
       "      <td>Nissan</td>\n",
       "      <td>Rogue</td>\n",
       "      <td>169206</td>\n",
       "      <td>2019</td>\n",
       "      <td>13695.0</td>\n",
       "    </tr>\n",
       "    <tr>\n",
       "      <th>...</th>\n",
       "      <td>...</td>\n",
       "      <td>...</td>\n",
       "      <td>...</td>\n",
       "      <td>...</td>\n",
       "      <td>...</td>\n",
       "    </tr>\n",
       "    <tr>\n",
       "      <th>10135</th>\n",
       "      <td>Lexus</td>\n",
       "      <td>IS</td>\n",
       "      <td>121969</td>\n",
       "      <td>2011</td>\n",
       "      <td>16500.0</td>\n",
       "    </tr>\n",
       "    <tr>\n",
       "      <th>10136</th>\n",
       "      <td>Hyundai</td>\n",
       "      <td>Elantra</td>\n",
       "      <td>98242</td>\n",
       "      <td>2016</td>\n",
       "      <td>12998.0</td>\n",
       "    </tr>\n",
       "    <tr>\n",
       "      <th>10137</th>\n",
       "      <td>Kia</td>\n",
       "      <td>Optima</td>\n",
       "      <td>28115</td>\n",
       "      <td>2020</td>\n",
       "      <td>20590.0</td>\n",
       "    </tr>\n",
       "    <tr>\n",
       "      <th>10138</th>\n",
       "      <td>Volkswagen</td>\n",
       "      <td>Passat</td>\n",
       "      <td>53157</td>\n",
       "      <td>2016</td>\n",
       "      <td>16068.0</td>\n",
       "    </tr>\n",
       "    <tr>\n",
       "      <th>10139</th>\n",
       "      <td>Honda</td>\n",
       "      <td>Fit</td>\n",
       "      <td>56770</td>\n",
       "      <td>2016</td>\n",
       "      <td>16998.0</td>\n",
       "    </tr>\n",
       "  </tbody>\n",
       "</table>\n",
       "<p>10140 rows × 5 columns</p>\n",
       "</div>"
      ],
      "text/plain": [
       "            Brand    Model  Mileage  Year    Price\n",
       "0           Lexus       RX    46047  2019  34069.0\n",
       "1         Porsche      911    24653  2011  76695.0\n",
       "2           Lexus       ES    45165  2019  31569.0\n",
       "3          Toyota    Camry    45693  2019  27569.0\n",
       "4          Nissan    Rogue   169206  2019  13695.0\n",
       "...           ...      ...      ...   ...      ...\n",
       "10135       Lexus       IS   121969  2011  16500.0\n",
       "10136     Hyundai  Elantra    98242  2016  12998.0\n",
       "10137         Kia   Optima    28115  2020  20590.0\n",
       "10138  Volkswagen   Passat    53157  2016  16068.0\n",
       "10139       Honda      Fit    56770  2016  16998.0\n",
       "\n",
       "[10140 rows x 5 columns]"
      ]
     },
     "execution_count": 27,
     "metadata": {},
     "output_type": "execute_result"
    }
   ],
   "source": [
    "merged_dataframes"
   ]
  },
  {
   "cell_type": "code",
   "execution_count": 28,
   "metadata": {},
   "outputs": [],
   "source": [
    "merged_dataframes['Price'] = merged_dataframes['Price'].astype('Int64')"
   ]
  },
  {
   "cell_type": "code",
   "execution_count": 29,
   "metadata": {},
   "outputs": [
    {
     "data": {
      "text/html": [
       "<div>\n",
       "<style scoped>\n",
       "    .dataframe tbody tr th:only-of-type {\n",
       "        vertical-align: middle;\n",
       "    }\n",
       "\n",
       "    .dataframe tbody tr th {\n",
       "        vertical-align: top;\n",
       "    }\n",
       "\n",
       "    .dataframe thead th {\n",
       "        text-align: right;\n",
       "    }\n",
       "</style>\n",
       "<table border=\"1\" class=\"dataframe\">\n",
       "  <thead>\n",
       "    <tr style=\"text-align: right;\">\n",
       "      <th></th>\n",
       "      <th>Brand</th>\n",
       "      <th>Model</th>\n",
       "      <th>Mileage</th>\n",
       "      <th>Year</th>\n",
       "      <th>Price</th>\n",
       "    </tr>\n",
       "  </thead>\n",
       "  <tbody>\n",
       "    <tr>\n",
       "      <th>0</th>\n",
       "      <td>Lexus</td>\n",
       "      <td>RX</td>\n",
       "      <td>46047</td>\n",
       "      <td>2019</td>\n",
       "      <td>34069</td>\n",
       "    </tr>\n",
       "    <tr>\n",
       "      <th>1</th>\n",
       "      <td>Porsche</td>\n",
       "      <td>911</td>\n",
       "      <td>24653</td>\n",
       "      <td>2011</td>\n",
       "      <td>76695</td>\n",
       "    </tr>\n",
       "    <tr>\n",
       "      <th>2</th>\n",
       "      <td>Lexus</td>\n",
       "      <td>ES</td>\n",
       "      <td>45165</td>\n",
       "      <td>2019</td>\n",
       "      <td>31569</td>\n",
       "    </tr>\n",
       "    <tr>\n",
       "      <th>3</th>\n",
       "      <td>Toyota</td>\n",
       "      <td>Camry</td>\n",
       "      <td>45693</td>\n",
       "      <td>2019</td>\n",
       "      <td>27569</td>\n",
       "    </tr>\n",
       "    <tr>\n",
       "      <th>4</th>\n",
       "      <td>Nissan</td>\n",
       "      <td>Rogue</td>\n",
       "      <td>169206</td>\n",
       "      <td>2019</td>\n",
       "      <td>13695</td>\n",
       "    </tr>\n",
       "    <tr>\n",
       "      <th>...</th>\n",
       "      <td>...</td>\n",
       "      <td>...</td>\n",
       "      <td>...</td>\n",
       "      <td>...</td>\n",
       "      <td>...</td>\n",
       "    </tr>\n",
       "    <tr>\n",
       "      <th>10135</th>\n",
       "      <td>Lexus</td>\n",
       "      <td>IS</td>\n",
       "      <td>121969</td>\n",
       "      <td>2011</td>\n",
       "      <td>16500</td>\n",
       "    </tr>\n",
       "    <tr>\n",
       "      <th>10136</th>\n",
       "      <td>Hyundai</td>\n",
       "      <td>Elantra</td>\n",
       "      <td>98242</td>\n",
       "      <td>2016</td>\n",
       "      <td>12998</td>\n",
       "    </tr>\n",
       "    <tr>\n",
       "      <th>10137</th>\n",
       "      <td>Kia</td>\n",
       "      <td>Optima</td>\n",
       "      <td>28115</td>\n",
       "      <td>2020</td>\n",
       "      <td>20590</td>\n",
       "    </tr>\n",
       "    <tr>\n",
       "      <th>10138</th>\n",
       "      <td>Volkswagen</td>\n",
       "      <td>Passat</td>\n",
       "      <td>53157</td>\n",
       "      <td>2016</td>\n",
       "      <td>16068</td>\n",
       "    </tr>\n",
       "    <tr>\n",
       "      <th>10139</th>\n",
       "      <td>Honda</td>\n",
       "      <td>Fit</td>\n",
       "      <td>56770</td>\n",
       "      <td>2016</td>\n",
       "      <td>16998</td>\n",
       "    </tr>\n",
       "  </tbody>\n",
       "</table>\n",
       "<p>10140 rows × 5 columns</p>\n",
       "</div>"
      ],
      "text/plain": [
       "            Brand    Model  Mileage  Year  Price\n",
       "0           Lexus       RX    46047  2019  34069\n",
       "1         Porsche      911    24653  2011  76695\n",
       "2           Lexus       ES    45165  2019  31569\n",
       "3          Toyota    Camry    45693  2019  27569\n",
       "4          Nissan    Rogue   169206  2019  13695\n",
       "...           ...      ...      ...   ...    ...\n",
       "10135       Lexus       IS   121969  2011  16500\n",
       "10136     Hyundai  Elantra    98242  2016  12998\n",
       "10137         Kia   Optima    28115  2020  20590\n",
       "10138  Volkswagen   Passat    53157  2016  16068\n",
       "10139       Honda      Fit    56770  2016  16998\n",
       "\n",
       "[10140 rows x 5 columns]"
      ]
     },
     "execution_count": 29,
     "metadata": {},
     "output_type": "execute_result"
    }
   ],
   "source": [
    "# output updated dataframe\n",
    "merged_dataframes"
   ]
  },
  {
   "cell_type": "markdown",
   "metadata": {},
   "source": [
    "#### Excel File"
   ]
  },
  {
   "cell_type": "code",
   "execution_count": 84,
   "metadata": {},
   "outputs": [],
   "source": [
    "merged_dataframes.to_excel('merged_dataframes.xlsx', index=False)"
   ]
  },
  {
   "cell_type": "markdown",
   "metadata": {},
   "source": [
    "#### Connect to PostgreSQL"
   ]
  },
  {
   "cell_type": "code",
   "execution_count": null,
   "metadata": {},
   "outputs": [],
   "source": [
    "# create sqlalchemy engine\n",
    "engine = create_engine('postgres://postgres:DataScience123@@localhost:5432')\n",
    "merged_dataframes.to_sql('merged_dataframes', engine)"
   ]
  }
 ],
 "metadata": {
  "kernelspec": {
   "display_name": "Python 3",
   "language": "python",
   "name": "python3"
  },
  "language_info": {
   "codemirror_mode": {
    "name": "ipython",
    "version": 3
   },
   "file_extension": ".py",
   "mimetype": "text/x-python",
   "name": "python",
   "nbconvert_exporter": "python",
   "pygments_lexer": "ipython3",
   "version": "3.8.3"
  }
 },
 "nbformat": 4,
 "nbformat_minor": 4
}
